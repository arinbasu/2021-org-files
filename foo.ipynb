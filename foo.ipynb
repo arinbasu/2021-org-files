{
 "cells": [
  {
   "cell_type": "markdown",
   "metadata": {},
   "source": [
    "# Setting up nixos\n",
    "\n",
    "# What is nixos?\n",
    "\n",
    "# How to obtain and install nixos?\n",
    "\n",
    "# How to install nixos?\n",
    "\n",
    "# How to install packages within nixos?\n",
    "\n",
    "# How to install R and packages within R?\n",
    "\n",
    "# What is Emacs, Babel, and Org-mode?\n",
    "\n",
    "# How to use org-mode for writing papers?\n",
    "\n",
    "# Summary\n",
    "\n",
    "# Cheat sheets\n",
    "\n",
    "``` r\n",
    "library(tidyverse)\n",
    "x = c(1,2,3)\n",
    "y = c(4,5,6)\n",
    "x+y\n",
    "```"
   ]
  }
 ],
 "nbformat": 4,
 "nbformat_minor": 5,
 "metadata": {}
}
